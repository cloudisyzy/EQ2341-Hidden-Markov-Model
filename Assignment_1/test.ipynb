{
 "cells": [
  {
   "cell_type": "code",
   "execution_count": 1,
   "id": "739a17c8-25ab-4a59-afdb-4c8453954739",
   "metadata": {
    "tags": []
   },
   "outputs": [],
   "source": [
    "from PattRecClasses import DiscreteD, GaussD, HMM, MarkovChain\n",
    "from matplotlib import pyplot as plt\n",
    "\n",
    "import numpy as np"
   ]
  },
  {
   "cell_type": "code",
   "execution_count": 4,
   "id": "1eb796df-6dad-4cfa-b8aa-319c9577421e",
   "metadata": {
    "tags": []
   },
   "outputs": [],
   "source": [
    "q = np.array([0.7, 0.15, 0.15])\n",
    "A = np.array([     [0.1, 0.2, 0.6,0.1],\n",
    "     [0.1, 0.1, 0.7,0.1],\n",
    "     [0.3, 0.2, 0.4,0.1],\n",
    "    ])\n",
    "# A = np.array([     [0.1, 0.2, 0.7],\n",
    "#      [0.1, 0.1, 0.8],\n",
    "#      [0.3, 0.2, 0.5],\n",
    "#     ])"
   ]
  },
  {
   "cell_type": "code",
   "execution_count": 5,
   "id": "3e644cad-bad3-4205-9a8f-51472bce0b30",
   "metadata": {
    "tags": []
   },
   "outputs": [
    {
     "data": {
      "text/plain": [
       "array([1, 3, 3, 2])"
      ]
     },
     "execution_count": 5,
     "metadata": {},
     "output_type": "execute_result"
    }
   ],
   "source": [
    "MarkovChain(initial_prob=q, transition_prob=A).rand(10)"
   ]
  },
  {
   "cell_type": "code",
   "execution_count": null,
   "id": "bb5c4032-6b1c-4633-b05b-f7fc5e19d587",
   "metadata": {},
   "outputs": [],
   "source": []
  },
  {
   "cell_type": "code",
   "execution_count": null,
   "id": "79b6c44a-35c9-4312-bb43-a10a9edc5d4c",
   "metadata": {},
   "outputs": [],
   "source": []
  },
  {
   "cell_type": "code",
   "execution_count": 78,
   "id": "48139a70-626e-464d-91b8-c1b1130999d8",
   "metadata": {
    "tags": []
   },
   "outputs": [],
   "source": [
    "q = np.array([0.7, 0.15, 0.15])\n",
    "# A = np.array([     [0.1, 0.2, 0.6,0.1],\n",
    "#      [0.1, 0.1, 0.7,0.1],\n",
    "#      [0.3, 0.2, 0.4,0.1],\n",
    "#     ])\n",
    "A = np.array([     [0.1, 0.2, 0.7],\n",
    "     [0.1, 0.1, 0.8],\n",
    "     [0.3, 0.2, 0.5],\n",
    "    ])\n",
    "\n",
    "mc = MarkovChain(initial_prob=q, transition_prob=A)"
   ]
  },
  {
   "cell_type": "code",
   "execution_count": null,
   "id": "5d7fa71e-9bed-49c9-8e95-0146a5de53ef",
   "metadata": {},
   "outputs": [],
   "source": [
    "hmm = HMM(mc=mc, )"
   ]
  },
  {
   "cell_type": "code",
   "execution_count": 74,
   "id": "88918280-d208-4dfa-8595-4df4f275c5d1",
   "metadata": {
    "tags": []
   },
   "outputs": [
    {
     "ename": "AttributeError",
     "evalue": "'DiscreteD' object has no attribute 'dataSize'",
     "output_type": "error",
     "traceback": [
      "\u001b[1;31m---------------------------------------------------------------------------\u001b[0m",
      "\u001b[1;31mAttributeError\u001b[0m                            Traceback (most recent call last)",
      "Input \u001b[1;32mIn [74]\u001b[0m, in \u001b[0;36m<cell line: 1>\u001b[1;34m()\u001b[0m\n\u001b[1;32m----> 1\u001b[0m \u001b[43mDiscreteD\u001b[49m\u001b[43m(\u001b[49m\u001b[43mq\u001b[49m\u001b[43m)\u001b[49m\u001b[38;5;241;43m.\u001b[39;49m\u001b[43mdataSize\u001b[49m\n",
      "\u001b[1;31mAttributeError\u001b[0m: 'DiscreteD' object has no attribute 'dataSize'"
     ]
    }
   ],
   "source": [
    "DiscreteD(q).dataSize"
   ]
  },
  {
   "cell_type": "code",
   "execution_count": 73,
   "id": "f7008d53-b707-4120-892a-4cf22a5701a8",
   "metadata": {
    "tags": []
   },
   "outputs": [
    {
     "data": {
      "text/plain": [
       "array([1, 3, 1, 3, 3, 1, 2, 3, 3, 3])"
      ]
     },
     "execution_count": 73,
     "metadata": {},
     "output_type": "execute_result"
    }
   ],
   "source": [
    "MarkovChain(initial_prob=q, transition_prob=A).rand(10)"
   ]
  },
  {
   "cell_type": "code",
   "execution_count": 75,
   "id": "bcb77934-4ee6-407c-9745-bb46c92a0c30",
   "metadata": {
    "tags": []
   },
   "outputs": [
    {
     "data": {
      "text/plain": [
       "array([[0., 0.],\n",
       "       [0., 0.]])"
      ]
     },
     "execution_count": 75,
     "metadata": {},
     "output_type": "execute_result"
    }
   ],
   "source": [
    "a = np.zeros([2,2])\n",
    "a"
   ]
  }
 ],
 "metadata": {
  "kernelspec": {
   "display_name": "Python 3 (ipykernel)",
   "language": "python",
   "name": "python3"
  },
  "language_info": {
   "codemirror_mode": {
    "name": "ipython",
    "version": 3
   },
   "file_extension": ".py",
   "mimetype": "text/x-python",
   "name": "python",
   "nbconvert_exporter": "python",
   "pygments_lexer": "ipython3",
   "version": "3.9.12"
  },
  "widgets": {
   "application/vnd.jupyter.widget-state+json": {
    "state": {},
    "version_major": 2,
    "version_minor": 0
   }
  }
 },
 "nbformat": 4,
 "nbformat_minor": 5
}
