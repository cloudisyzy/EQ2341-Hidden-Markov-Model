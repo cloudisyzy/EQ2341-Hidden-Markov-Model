{
 "cells": [
  {
   "cell_type": "code",
   "execution_count": 24,
   "id": "739a17c8-25ab-4a59-afdb-4c8453954739",
   "metadata": {
    "tags": []
   },
   "outputs": [],
   "source": [
    "import numpy as np\n",
    "from PattRecClasses.MarkovChain import MarkovChain"
   ]
  },
  {
   "cell_type": "code",
   "execution_count": 50,
   "id": "bf65e753-3f24-4a0f-8f6a-84cd2a68214e",
   "metadata": {
    "tags": []
   },
   "outputs": [
    {
     "data": {
      "text/plain": [
       "array([[7.000000e-01, 2.100000e-01, 6.300000e-02, 1.890000e-02,\n",
       "        5.670000e-03, 1.701000e-03, 5.103000e-04, 1.530900e-04,\n",
       "        4.592700e-05, 1.377810e-05],\n",
       "       [6.000000e-01, 2.400000e-01, 9.600000e-02, 3.840000e-02,\n",
       "        1.536000e-02, 6.144000e-03, 2.457600e-03, 9.830400e-04,\n",
       "        3.932160e-04, 1.572864e-04]])"
      ]
     },
     "execution_count": 50,
     "metadata": {},
     "output_type": "execute_result"
    }
   ],
   "source": [
    "q = np.array([0.5,0.5])\n",
    "\n",
    "A = np.array([[0.3,0.7],[0.6,0.4]])\n",
    "\n",
    "tt = MarkovChain(initial_prob=q, transition_prob=A)\n",
    "\n",
    "tt.probStateDuration(tmax=)"
   ]
  },
  {
   "cell_type": "code",
   "execution_count": 46,
   "id": "95dd6924-8584-44bc-83d1-1c67b216b66c",
   "metadata": {
    "tags": []
   },
   "outputs": [
    {
     "data": {
      "text/plain": [
       "array([[2, 3],\n",
       "       [2, 3]])"
      ]
     },
     "execution_count": 46,
     "metadata": {},
     "output_type": "execute_result"
    }
   ],
   "source": [
    "a = np.array([1,1])\n",
    "b = np.array([[1,1],[1,1]])\n",
    "c = np.array([2,3])"
   ]
  }
 ],
 "metadata": {
  "kernelspec": {
   "display_name": "Python 3 (ipykernel)",
   "language": "python",
   "name": "python3"
  },
  "language_info": {
   "codemirror_mode": {
    "name": "ipython",
    "version": 3
   },
   "file_extension": ".py",
   "mimetype": "text/x-python",
   "name": "python",
   "nbconvert_exporter": "python",
   "pygments_lexer": "ipython3",
   "version": "3.9.12"
  },
  "widgets": {
   "application/vnd.jupyter.widget-state+json": {
    "state": {},
    "version_major": 2,
    "version_minor": 0
   }
  }
 },
 "nbformat": 4,
 "nbformat_minor": 5
}
