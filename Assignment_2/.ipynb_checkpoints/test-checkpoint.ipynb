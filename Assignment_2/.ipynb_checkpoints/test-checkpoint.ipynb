{
 "cells": [
  {
   "cell_type": "code",
   "execution_count": 1,
   "id": "e055a579-7d92-4d6b-89ba-9dac025f2f4a",
   "metadata": {},
   "outputs": [],
   "source": [
    "from PattRecClasses import DiscreteD, GaussD, HMM, MarkovChain\n",
    "from PattRecClasses.func import compute_pX\n",
    "from matplotlib import pyplot as plt\n",
    "\n",
    "import numpy as np"
   ]
  },
  {
   "cell_type": "code",
   "execution_count": 2,
   "id": "ff75bfc3-f73d-47b6-820c-b37c7c8f7380",
   "metadata": {},
   "outputs": [
    {
     "name": "stdout",
     "output_type": "stream",
     "text": [
      "alpha_hat = \n",
      " [[1.     0.3847 0.4189]\n",
      " [0.     0.6153 0.5811]] \n",
      "\n",
      "c = \n",
      " [1.     0.1625 0.8266 0.0581] \n",
      "\n",
      "Log Probability = \n",
      " -9.187726979475208\n"
     ]
    }
   ],
   "source": [
    "# Verification forward() (Finite)\n",
    "mc = MarkovChain( np.array( [ 1, 0 ] ), np.array( [ [0.9, 0.1, 0], [0, 0.9, 0.1] ] ) ) \n",
    "g1 = GaussD( means=[0], stdevs=[1] )\n",
    "g2 = GaussD( means=[3], stdevs=[2] )\n",
    "observations = np.array([-0.2, 2.6, 1.3])\n",
    "distribution = [g1, g2]\n",
    "h = HMM(mc, distribution)\n",
    "pX = compute_pX(observations, distribution)\n",
    "alpha_hat, c = mc.forward(pX)\n",
    "log_prob = h.logprob(observations)\n",
    "\n",
    "np.set_printoptions(precision=4)\n",
    "print('alpha_hat = \\n', alpha_hat, '\\n\\nc = \\n', c, '\\n\\nLog Probability = \\n', log_prob)"
   ]
  },
  {
   "cell_type": "code",
   "execution_count": 3,
   "id": "38df9297-292f-4537-84c8-10df83652576",
   "metadata": {
    "tags": []
   },
   "outputs": [
    {
     "name": "stdout",
     "output_type": "stream",
     "text": [
      "alpha_hat = \n",
      " [[1.     0.3847 0.4591]\n",
      " [0.     0.6153 0.5409]] \n",
      "\n",
      "c = \n",
      " [1.     0.1625 0.8881]\n"
     ]
    }
   ],
   "source": [
    "# Verification forward() (Infinite)\n",
    "mc = MarkovChain( np.array( [ 1, 0 ] ), np.array( [ [0.9, 0.1], [0.1, 0.9] ] ) ) \n",
    "g1 = GaussD( means=[0], stdevs=[1] )\n",
    "g2 = GaussD( means=[3], stdevs=[2] )\n",
    "observations = np.array([-0.2, 2.6, 1.3])\n",
    "distribution = [g1, g2]\n",
    "h = HMM(mc, distribution)\n",
    "pX = compute_pX(observations, distribution)\n",
    "alpha_hat, c = mc.forward(pX)\n",
    "\n",
    "np.set_printoptions(precision=4)\n",
    "print('alpha_hat = \\n', alpha_hat, '\\n\\nc = \\n', c)"
   ]
  }
 ],
 "metadata": {
  "kernelspec": {
   "display_name": "Python 3 (ipykernel)",
   "language": "python",
   "name": "python3"
  },
  "language_info": {
   "codemirror_mode": {
    "name": "ipython",
    "version": 3
   },
   "file_extension": ".py",
   "mimetype": "text/x-python",
   "name": "python",
   "nbconvert_exporter": "python",
   "pygments_lexer": "ipython3",
   "version": "3.9.12"
  },
  "widgets": {
   "application/vnd.jupyter.widget-state+json": {
    "state": {},
    "version_major": 2,
    "version_minor": 0
   }
  }
 },
 "nbformat": 4,
 "nbformat_minor": 5
}
