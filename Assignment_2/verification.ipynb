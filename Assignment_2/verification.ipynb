{
 "cells": [
  {
   "cell_type": "code",
   "execution_count": 1,
   "id": "e055a579-7d92-4d6b-89ba-9dac025f2f4a",
   "metadata": {},
   "outputs": [],
   "source": [
    "from PattRecClasses import DiscreteD, GaussD, HMM, MarkovChain\n",
    "from PattRecClasses.func import compute_pX\n",
    "from matplotlib import pyplot as plt\n",
    "\n",
    "import numpy as np"
   ]
  },
  {
   "cell_type": "code",
   "execution_count": 2,
   "id": "fddbb605-1467-4121-b297-6a689a71b6b4",
   "metadata": {
    "tags": []
   },
   "outputs": [
    {
     "name": "stdout",
     "output_type": "stream",
     "text": [
      "alpha_hat = \n",
      " [[1.     0.3847 0.4189]\n",
      " [0.     0.6153 0.5811]] \n",
      "\n",
      "c = \n",
      " [1.     0.1625 0.8266 0.0581] \n",
      "\n",
      "Log Probability = \n",
      " -9.187726979475208\n",
      "\n",
      "beta_hat = \n",
      " [[1.0003 1.0393 0.    ]\n",
      " [8.4182 9.3536 2.0822]]\n"
     ]
    }
   ],
   "source": [
    "# Verification (Finite)\n",
    "mc = MarkovChain( np.array( [ 1, 0 ] ), np.array( [ [0.9, 0.1, 0], [0, 0.9, 0.1] ] ) ) \n",
    "g1 = GaussD( means=[0], stdevs=[1] )\n",
    "g2 = GaussD( means=[3], stdevs=[2] )\n",
    "observations = np.array([-0.2, 2.6, 1.3])\n",
    "# observations = np.array([0, 3, 0])\n",
    "distribution = [g1, g2]\n",
    "h = HMM(mc, distribution)\n",
    "pX = compute_pX(observations, distribution, scale=True)\n",
    "alpha_hat, c = mc.forward(pX)\n",
    "log_prob = h.logprob(observations)\n",
    "\n",
    "np.set_printoptions(precision=4)\n",
    "print('alpha_hat = \\n', alpha_hat, '\\n\\nc = \\n', c, '\\n\\nLog Probability = \\n', log_prob)\n",
    "\n",
    "c = np.array([1, 0.1625, 0.8266, 0.0581])\n",
    "beta_hat = mc.backward(pX, c)\n",
    "print('\\nbeta_hat = \\n', beta_hat)"
   ]
  },
  {
   "cell_type": "code",
   "execution_count": 4,
   "id": "38df9297-292f-4537-84c8-10df83652576",
   "metadata": {
    "tags": []
   },
   "outputs": [
    {
     "name": "stdout",
     "output_type": "stream",
     "text": [
      "alpha_hat = \n",
      " [[1.     0.3847 0.4591]\n",
      " [0.     0.6153 0.5409]] \n",
      "\n",
      "c = \n",
      " [1.     0.1625 0.8881]\n",
      "\n",
      "beta_hat = \n",
      " [[1.     6.7973 1.126 ]\n",
      " [5.2223 5.7501 1.126 ]]\n"
     ]
    }
   ],
   "source": [
    "# Verification (Infinite)\n",
    "mc = MarkovChain( np.array( [ 1, 0 ] ), np.array( [ [0.9, 0.1], [0.1, 0.9] ] ) ) \n",
    "g1 = GaussD( means=[0], stdevs=[1] )\n",
    "g2 = GaussD( means=[3], stdevs=[2] )\n",
    "observations = np.array([-0.2, 2.6, 1.3])\n",
    "distribution = [g1, g2]\n",
    "h = HMM(mc, distribution)\n",
    "pX = compute_pX(observations, distribution)\n",
    "alpha_hat, c = mc.forward(pX)\n",
    "\n",
    "np.set_printoptions(precision=4)\n",
    "print('alpha_hat = \\n', alpha_hat, '\\n\\nc = \\n', c)\n",
    "\n",
    "beta_hat = mc.backward(pX, c)\n",
    "print('\\nbeta_hat = \\n', beta_hat)"
   ]
  },
  {
   "cell_type": "code",
   "execution_count": 6,
   "id": "97bc5b58-c44b-4226-9f49-da79dfa0a4ef",
   "metadata": {
    "tags": []
   },
   "outputs": [
    {
     "name": "stdout",
     "output_type": "stream",
     "text": [
      "\n",
      " [[0.9942 1.8253 0.4999 0.2545 0.286  0.7192]\n",
      " [5.4359 3.5464 1.7711 1.7576 2.0017 1.4385]\n",
      " [3.2284 2.7527 1.1467 1.0062 1.1438 0.7192]]\n"
     ]
    }
   ],
   "source": [
    "# q = np.array([0.3,0.6,0.1])\n",
    "# A = np.array([[0.8, 0.1, 0.05,0.05], [0.1, 0.7, 0.1,0.1], [0.5, 0.4, 0.05, 0.05]])  # finite\n",
    "# mc = MarkovChain(q, A)\n",
    "# g1 = GaussD(means=np.array([0]), stdevs=np.array([1.0]))\n",
    "# g2 = GaussD(means=np.array([3]), stdevs=np.array([2.0]))\n",
    "# g3 = GaussD(means=np.array([-1]), stdevs=np.array([1.0]))\n",
    "# observations = np.array([-0.2, 2.6, 1.3, 1.5, 3.2 ,6.4])\n",
    "# distribution = [g1, g2, g3]\n",
    "# h = HMM(mc, distribution)\n",
    "# pX = compute_pX(observations, distribution, scale=True)\n",
    "# alpha_hat, c = mc.forward(pX)\n",
    "# log_prob = h.logprob(observations)\n",
    "# beta_hat = mc.backward(pX, c)\n",
    "# print('\\n', beta_hat)"
   ]
  },
  {
   "cell_type": "code",
   "execution_count": 22,
   "id": "69c00086-6672-4631-b3aa-323d017bbe41",
   "metadata": {
    "tags": []
   },
   "outputs": [],
   "source": [
    "mc = MarkovChain( np.array( [ 0.75, 0.25, 0] ), np.array( [ [ 0.8, 0.1, 0.1 ], [ 0.1, 0.8, 0.1 ], [0.1,0.1,0.8] ] ) ) \n",
    "g1 = GaussD(means=[0,2, 3,1], cov=np.array([[1, 0, 0, 0], [0, 1, 0, 0], [0, 0, 1, 0],[0,0,0,1]]))\n",
    "g2 = GaussD(means=[0, 1, 1,1], cov=np.array([[1, 0, 0, 0], [0, 1, 0, 0], [0, 0, 1, 0],[0,0,0,1]]))\n",
    "g3 = GaussD(means=[-1, 0, 2,1], cov=np.array([[1, 0, 0, 0], [0, 1, 0, 0], [0, 0, 1, 0],[0,0,0,1]]))\n",
    "observations = np.array( [ [ 0.8, 0.1, 0.1 ], [ 0.1, 0.8, 0.1 ], [0.1,0.1,0.8], [0.2,0.3,0.5] ] )\n",
    "distribution = [g1, g2, g3]\n",
    "h = HMM(mc, distribution)\n",
    "pX = compute_pX(observations, distribution)\n",
    "alpha_hat, c = mc.forward(pX)\n",
    "beta_hat = mc.backward(pX, c)"
   ]
  },
  {
   "cell_type": "code",
   "execution_count": 25,
   "id": "95be48a7-592e-421e-a96f-9f86b7779bc1",
   "metadata": {
    "tags": []
   },
   "outputs": [
    {
     "name": "stdout",
     "output_type": "stream",
     "text": [
      "[[0.0163 0.0015 0.0027]\n",
      " [0.9837 0.9859 0.9444]\n",
      " [0.     0.0125 0.0529]]\n"
     ]
    }
   ],
   "source": [
    "print(alpha_hat)"
   ]
  },
  {
   "cell_type": "code",
   "execution_count": 26,
   "id": "3cb49480-30a4-4b7b-aa11-c70952fc579b",
   "metadata": {
    "tags": []
   },
   "outputs": [
    {
     "name": "stdout",
     "output_type": "stream",
     "text": [
      "[[0.5291 0.2369 1.1953]\n",
      " [3.9912 1.2596 1.1953]\n",
      " [0.6983 0.6388 1.1953]]\n"
     ]
    }
   ],
   "source": [
    "print(beta_hat)"
   ]
  },
  {
   "cell_type": "code",
   "execution_count": null,
   "id": "c62321e8-802f-4cbc-8631-e7859c4c3622",
   "metadata": {},
   "outputs": [],
   "source": [
    "mc = MarkovChain( np.array( [ 0.75, 0.25, 0] ), np.array( [ [ 0.8, 0.1, 0.1 ], [ 0.1, 0.8, 0.1 ], [0.1,0.1,0.8] ] ) ) \n",
    "g1 = GaussD(means=[0,2, 3,0], cov=np.array([[1, 0, 0], [0, 1, 0], [0, 0, 1]]))\n",
    "g2 = GaussD(means=[0, 1, 1,0], cov=np.array([[1, 0, 0], [0, 1, 0], [0, 0, 1]]))\n",
    "g3 = GaussD(means=[-1, 0, 2,1], cov=np.array([[1, 0, 0], [0, 1, 0], [0, 0, 1]]))\n",
    "observations = np.array( [ [ 0.8, 0.1, 0.1 ], [ 0.1, 0.8, 0.1 ], [0.1,0.1,0.8] ] )\n",
    "distribution = [g1, g2, g3]\n",
    "h = HMM(mc, distribution)\n",
    "pX = compute_pX(observations, distribution)\n",
    "alpha_hat, c = mc.forward(pX)\n",
    "beta_hat = mc.backward(pX, c)"
   ]
  }
 ],
 "metadata": {
  "kernelspec": {
   "display_name": "Python 3 (ipykernel)",
   "language": "python",
   "name": "python3"
  },
  "language_info": {
   "codemirror_mode": {
    "name": "ipython",
    "version": 3
   },
   "file_extension": ".py",
   "mimetype": "text/x-python",
   "name": "python",
   "nbconvert_exporter": "python",
   "pygments_lexer": "ipython3",
   "version": "3.9.12"
  },
  "widgets": {
   "application/vnd.jupyter.widget-state+json": {
    "state": {},
    "version_major": 2,
    "version_minor": 0
   }
  }
 },
 "nbformat": 4,
 "nbformat_minor": 5
}
