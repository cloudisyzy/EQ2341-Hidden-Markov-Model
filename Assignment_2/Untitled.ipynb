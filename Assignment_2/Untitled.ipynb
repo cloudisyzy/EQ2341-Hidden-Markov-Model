{
 "cells": [
  {
   "cell_type": "code",
   "execution_count": 1,
   "id": "a20d642b-9c43-46f9-b707-3061c5b53e4d",
   "metadata": {
    "tags": []
   },
   "outputs": [],
   "source": [
    "from PattRecClasses import DiscreteD, GaussD, HMM, MarkovChain\n",
    "from PattRecClasses.func import compute_pX\n",
    "from matplotlib import pyplot as plt\n",
    "\n",
    "import numpy as np"
   ]
  },
  {
   "cell_type": "code",
   "execution_count": 2,
   "id": "27c28b5f-a7b3-4a1f-b89b-a17f1e2490f0",
   "metadata": {
    "tags": []
   },
   "outputs": [],
   "source": [
    "mc = MarkovChain( np.array( [ 0.75, 0.25, 0] ), np.array( [ [ 0.8, 0.1, 0.1 ], [ 0.1, 0.8, 0.1 ], [0.1,0.1,0.8] ] ) ) \n",
    "\n",
    "g1 = GaussD( means=[0, 0, 0], cov=np.array([[1, 0,0],[0, 1,0],[0,0,1]]) )\n",
    "g2 = GaussD( means=[3, 3,3], cov=np.array([[2, 1,2],[1, 4,1],[0,1,0]]) )\n",
    "g3 = GaussD( means=[2, 2,2], cov=np.array([[1, 1,0],[1, 0,1],[1,1,0]]) )\n",
    "h  = HMM( mc, [g1, g2, g3])"
   ]
  },
  {
   "cell_type": "code",
   "execution_count": null,
   "id": "27b828a6-2792-418e-b015-0d210de9522c",
   "metadata": {},
   "outputs": [],
   "source": [
    "pX = compute_pX(observations, distribution, scale=True)"
   ]
  }
 ],
 "metadata": {
  "kernelspec": {
   "display_name": "Python 3 (ipykernel)",
   "language": "python",
   "name": "python3"
  },
  "language_info": {
   "codemirror_mode": {
    "name": "ipython",
    "version": 3
   },
   "file_extension": ".py",
   "mimetype": "text/x-python",
   "name": "python",
   "nbconvert_exporter": "python",
   "pygments_lexer": "ipython3",
   "version": "3.9.12"
  },
  "widgets": {
   "application/vnd.jupyter.widget-state+json": {
    "state": {},
    "version_major": 2,
    "version_minor": 0
   }
  }
 },
 "nbformat": 4,
 "nbformat_minor": 5
}
