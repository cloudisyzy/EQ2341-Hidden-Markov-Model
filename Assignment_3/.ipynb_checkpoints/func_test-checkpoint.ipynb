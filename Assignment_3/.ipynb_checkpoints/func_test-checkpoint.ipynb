{
 "cells": [
  {
   "cell_type": "code",
   "execution_count": 3,
   "id": "9249f5f2-9048-400f-b501-407ba8572e29",
   "metadata": {
    "tags": []
   },
   "outputs": [],
   "source": [
    "from PattRecClasses import DiscreteD, GaussD, HMM, MarkovChain\n",
    "from PattRecClasses.func import compute_pX\n",
    "import numpy as np"
   ]
  },
  {
   "cell_type": "code",
   "execution_count": 4,
   "id": "f0f48871-84ab-4afc-9345-962e573dc4c3",
   "metadata": {
    "tags": []
   },
   "outputs": [],
   "source": [
    "data = np.genfromtxt('停走跑走停走跑_标准.csv', delimiter=',', names=True)\n",
    "x = data['x']\n",
    "y = data['y']\n",
    "z = data['z']\n",
    "observations = np.concatenate((x,y,z), axis=0).reshape(3,-1)"
   ]
  },
  {
   "cell_type": "code",
   "execution_count": 32,
   "id": "4eb7bc4c-58cb-4ce4-ba4c-1f2d04537957",
   "metadata": {},
   "outputs": [],
   "source": [
    "def BaumWelch(q, A, dist, data):\n",
    "    \n",
    "    # Initialization\n",
    "    mc = MarkovChain(q, A)\n",
    "    pX = compute_pX(data, dist, scale=True)\n",
    "    n_states = q.shape[0] # # of hidden states\n",
    "    T = data.shape[1] # length of obersavations\n",
    "    \n",
    "    # Forward & Backward\n",
    "    alpha_hat, c = mc.forward(pX)\n",
    "    beta_hat = mc.backward(pX, c)\n",
    "    # print(alpha_hat)\n",
    "    # print(c)\n",
    "    # print(beta_hat)\n",
    "    \n",
    "    # Compute Gamma\n",
    "    gamma = np.zeros_like(alpha_hat) \n",
    "    for j in range(gamma.shape[0]):\n",
    "        for t in range(gamma.shape[1]):\n",
    "            gamma[j,t] = alpha_hat[j,t] * beta_hat[j,t] * c[t] # 5.63 !!! gamma 和参考的算的不一样，怀疑是参考错误，尤其在c[t]的使用上,如果将参考中c[t]改为c[j],则结果相同，不过为转置\n",
    "    # print(gamma)\n",
    "            \n",
    "    # Update q\n",
    "    q_updated = gamma[:,0] / np.sum(gamma[:,0]) # 7.54 !!! gamma 和参考的算的不一样，q肯定不一样，如果将参考中c[t]改为c[j],则结果相同\n",
    "    print(q_updated)\n",
    "    \n",
    "    # Update A\n",
    "    eps = np.zeros((n_states, n_states, T))\n",
    "    eps_hat = np.zeros((n_states, n_states))\n",
    "    for i in range(n_states):\n",
    "        for j in range(n_states):\n",
    "            for t in range(T-1):\n",
    "                eps[i,j,t] = alpha_hat[i,t] * A[i,j] * pX[j,t+1] * beta_hat[j,t+1] # 6.19\n",
    "            eps_hat[i,j] = np.sum(eps[i,j,:]) # 6.12\n",
    "    A_updated = np.zeros_like(A)      \n",
    "    denominator_A = np.sum(eps_hat, axis=1)\n",
    "    for i in range(eps_hat.shape[0]):\n",
    "        A_updated[i,:] = eps_hat[i,:] / denominator_A[i] # 6.13\n",
    "    print(A_updated)\n",
    "        \n",
    "    # Update B, equivalent to update the parameters of source distribution of each state\n",
    "    ## Update Means\n",
    "    mu_updated = np.zeros((n_states, dist[0].means.shape[0]))\n",
    "    for i in range(n_states):\n",
    "        temp = np.zeros_like(data)\n",
    "        for t in range(T):\n",
    "            temp[:,t] = gamma[i,t] * data[:,t]\n",
    "        numerator_mu = np.sum(temp, axis=1)\n",
    "        denominator_mu = np.sum(gamma[i,:], axis=0)\n",
    "        mu_updated[i] = numerator_mu / denominator_mu # 7.70 ！！！gamma 和参考的算的不一样，mu肯定不一样，如果将参考中c[t]改为c[j],则结果相同\n",
    "    print(mu_updated)\n",
    "    \n",
    "    ## Update Covariances\n",
    "    cov_updated = np.zeros((n_states, dist[0].cov.shape[0], dist[0].cov.shape[1]))\n",
    "    for i in range(n_states):\n",
    "        temp = np.zeros((data.shape[0], data.shape[0], T)) # data.shape[0] is equivalent to dist[0].cov.shape[0]\n",
    "        for t in range(T):\n",
    "            temp[:,:,t] = gamma[i,t] * ( (data[:,t]-mu_updated[i,:]).reshape(n_states, -1) * (data[:,t]-mu_updated[i,:]) )\n",
    "        numerator_cov = np.sum(temp, axis=2)\n",
    "        denominator_cov = np.sum(gamma[i,:], axis=0)\n",
    "        cov_updated[i,:,:] = numerator_cov / denominator_cov\n",
    "    print(cov_updated)\n",
    "    \n",
    "    return cov_updated"
   ]
  },
  {
   "cell_type": "code",
   "execution_count": 33,
   "id": "a7c7a1c8-7395-4944-9e5a-a299aab6053f",
   "metadata": {
    "tags": []
   },
   "outputs": [
    {
     "name": "stdout",
     "output_type": "stream",
     "text": [
      "[0.00213383 0.99786617 0.        ]\n",
      "[[1.85344811e-02 9.32323807e-01 4.91417123e-02]\n",
      " [5.05566884e-04 9.86059956e-01 1.34344772e-02]\n",
      " [2.81086138e-03 4.20603832e-01 5.76585307e-01]]\n",
      "[[0.52447534 0.16709043 0.20547443]\n",
      " [0.30159083 0.30138125 0.29895073]\n",
      " [0.16177768 0.2038388  0.38727279]]\n",
      "[[[ 0.10150945 -0.02590424 -0.0421973 ]\n",
      "  [-0.02590424  0.02701821 -0.00450233]\n",
      "  [-0.0421973  -0.00450233  0.04726327]]\n",
      "\n",
      " [[ 0.08576314 -0.03814468 -0.03765471]\n",
      "  [-0.03814468  0.08570089 -0.03761302]\n",
      "  [-0.03765471 -0.03761302  0.08497254]]\n",
      "\n",
      " [[ 0.00236129 -0.00023715 -0.01156928]\n",
      "  [-0.00023715  0.02483805 -0.02365229]\n",
      "  [-0.01156928 -0.02365229  0.08149869]]]\n"
     ]
    }
   ],
   "source": [
    "q = np.array( [ 0.75, 0.25, 0] )\n",
    "A = np.array( [ [ 0.8, 0.1, 0.1 ], [ 0.1, 0.8, 0.1 ], [0.1,0.1,0.8] ] ) \n",
    "g1 = GaussD(means=[0,2, 3], cov=np.array([[1, 0, 0], [0, 1, 0], [0, 0, 1]]))\n",
    "g2 = GaussD(means=[0, 1, 1], cov=np.array([[1, 0, 0], [0, 1, 0], [0, 0, 1]]))\n",
    "g3 = GaussD(means=[-1, 0, 2], cov=np.array([[1, 0, 0], [0, 1, 0], [0, 0, 1]]))\n",
    "g = [g1, g2, g3]\n",
    "data = np.array( [ [ 0.8, 0.1, 0.1, 0.2 ], [ 0.1, 0.8, 0.1, 0.2  ], [0.1, 0.1, 0.8, 0.2 ] ] )\n",
    "\n",
    "temp = BaumWelch(q, A, g, data)\n",
    "# print(temp)"
   ]
  },
  {
   "cell_type": "code",
   "execution_count": 9,
   "id": "cd29e8c9-ca01-4c0f-94b4-6bcf72f05532",
   "metadata": {
    "tags": []
   },
   "outputs": [
    {
     "name": "stdout",
     "output_type": "stream",
     "text": [
      "[0.00516639 0.99483361 0.        ]\n",
      "[[2.25080790e-02 6.95366159e-01 2.82125762e-01]\n",
      " [4.21458659e-04 9.39661143e-01 5.99173985e-02]\n",
      " [3.87541509e-04 1.35897557e-01 8.63714902e-01]]\n",
      "[[-0.56951378  0.09715955  0.76383289]\n",
      " [-0.60506075  0.06161259  0.72828592]\n",
      " [-0.80656756 -0.13989423  0.52677911]]\n"
     ]
    }
   ],
   "source": [
    "q = np.array( [ 0.75, 0.25, 0] )\n",
    "A = np.array( [ [ 0.8, 0.1, 0.1 ], [ 0.1, 0.8, 0.1 ], [0.1,0.1,0.8] ] ) \n",
    "g1 = GaussD(means=[0,2, 3], cov=np.array([[1, 0, 0], [0, 1, 0], [0, 0, 1]]))\n",
    "g2 = GaussD(means=[0, 1, 1], cov=np.array([[1, 0, 0], [0, 1, 0], [0, 0, 1]]))\n",
    "g3 = GaussD(means=[-1, 0, 2], cov=np.array([[1, 0, 0], [0, 1, 0], [0, 0, 1]]))\n",
    "g = [g1, g2, g3]\n",
    "data = np.linspace(-1,1,9999).reshape(3,-1)\n",
    "\n",
    "temp = BaumWelch(q, A, g, data)"
   ]
  },
  {
   "cell_type": "code",
   "execution_count": 16,
   "id": "23a2ff4d-1139-4d9d-ae39-93b0929d1698",
   "metadata": {},
   "outputs": [
    {
     "data": {
      "text/plain": [
       "(3, 3, 3)"
      ]
     },
     "execution_count": 16,
     "metadata": {},
     "output_type": "execute_result"
    }
   ],
   "source": [
    "a=np.zeros((3, g[0].cov.shape[0], g[0].cov.shape[1]))\n",
    "a.shape"
   ]
  },
  {
   "cell_type": "code",
   "execution_count": 22,
   "id": "4a89ade5-8b6b-4e16-b609-00df5b608bfd",
   "metadata": {
    "tags": []
   },
   "outputs": [
    {
     "data": {
      "text/plain": [
       "3.0"
      ]
     },
     "execution_count": 22,
     "metadata": {},
     "output_type": "execute_result"
    }
   ],
   "source": [
    "b = np.ones((3,10))\n",
    "c = np.array([1,1,1])\n",
    "b[:,3].T @ b[:,3]"
   ]
  },
  {
   "cell_type": "code",
   "execution_count": 23,
   "id": "773424e6-8589-47ba-8ad0-a4381be46394",
   "metadata": {
    "tags": []
   },
   "outputs": [
    {
     "name": "stdout",
     "output_type": "stream",
     "text": [
      "[[1 1 1]\n",
      " [1 1 1]\n",
      " [1 1 1]]\n"
     ]
    }
   ],
   "source": [
    "c = np.array([1, 1, 1]).reshape(-1, 1)\n",
    "\n",
    "# 使用广播计算外积，得到一个3x3的全1矩阵\n",
    "result = c @ c.T\n",
    "\n",
    "print(result)"
   ]
  }
 ],
 "metadata": {
  "kernelspec": {
   "display_name": "Python 3 (ipykernel)",
   "language": "python",
   "name": "python3"
  },
  "language_info": {
   "codemirror_mode": {
    "name": "ipython",
    "version": 3
   },
   "file_extension": ".py",
   "mimetype": "text/x-python",
   "name": "python",
   "nbconvert_exporter": "python",
   "pygments_lexer": "ipython3",
   "version": "3.9.12"
  },
  "widgets": {
   "application/vnd.jupyter.widget-state+json": {
    "state": {},
    "version_major": 2,
    "version_minor": 0
   }
  }
 },
 "nbformat": 4,
 "nbformat_minor": 5
}
