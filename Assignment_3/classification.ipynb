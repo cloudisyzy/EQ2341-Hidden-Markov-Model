{
 "cells": [
  {
   "cell_type": "code",
   "execution_count": 1,
   "id": "cc3e14db-3388-4ac7-9ede-bc9d43547e24",
   "metadata": {
    "tags": []
   },
   "outputs": [],
   "source": [
    "import numpy as np\n",
    "import matplotlib\n",
    "import matplotlib.pyplot as plt\n",
    "from tqdm.notebook import tqdm\n",
    "import pickle\n",
    "import os\n",
    "import seaborn as sns\n",
    "from sklearn.metrics import confusion_matrix, accuracy_score\n",
    "\n",
    "from PattRecClasses import DiscreteD, GaussD, HMM, MarkovChain\n",
    "from PattRecClasses.func import compute_pX, BaumWelch, HMM_prediction, load_data, plot_fft, plot_prediction_HMM"
   ]
  },
  {
   "cell_type": "code",
   "execution_count": 2,
   "id": "0fb59746-f5ad-48d1-8f75-f49a63f01ac2",
   "metadata": {
    "tags": []
   },
   "outputs": [],
   "source": [
    "path_list = ['data/standing/', 'data/walking/', 'data/running/']\n",
    "data_list = []\n",
    "true_label_list = []\n",
    "prefix = np.load('data/prefix.npy')\n",
    "\n",
    "for i, path in enumerate(path_list):\n",
    "    for root, dirs, files in os.walk(path):\n",
    "        for file in files:\n",
    "            single_csv = os.path.join(root, file)\n",
    "            data = np.concatenate((prefix, load_data(single_csv, averaging=True, window=2)), axis=1)\n",
    "            label = i + 1\n",
    "            data_list.append(data)\n",
    "            true_label_list.append(label)"
   ]
  },
  {
   "cell_type": "code",
   "execution_count": 3,
   "id": "a0785c66-ccf1-4faf-bbc6-4162e2e6bb53",
   "metadata": {
    "tags": []
   },
   "outputs": [],
   "source": [
    "with open('hmm_05_11.pkl', 'rb') as param:\n",
    "    hmm = pickle.load(param)\n",
    "q = hmm.stateGen.q\n",
    "A = hmm.stateGen.A\n",
    "distribution = hmm.outputDistr"
   ]
  },
  {
   "cell_type": "code",
   "execution_count": 4,
   "id": "8bb7a5be-01c7-4ece-bc7a-bf18cc6ef662",
   "metadata": {
    "tags": []
   },
   "outputs": [],
   "source": [
    "pred_label_list = []\n",
    "\n",
    "for data in data_list:\n",
    "    _, pred_class = HMM_prediction(q, A, distribution, data, decision=True)\n",
    "    pred_label_list.append(pred_class)"
   ]
  },
  {
   "cell_type": "code",
   "execution_count": 5,
   "id": "da43cbe6-3bfe-4599-8b60-6e9bc34ad9c1",
   "metadata": {
    "tags": []
   },
   "outputs": [
    {
     "data": {
      "image/png": "[encoded data removed]",
      "text/plain": [
       "<Figure size 720x576 with 2 Axes>"
      ]
     },
     "metadata": {
      "needs_background": "light"
     },
     "output_type": "display_data"
    }
   ],
   "source": [
    "replacement_dict = {\n",
    "    1: \"standing\",\n",
    "    2: \"walking\",\n",
    "    3: \"running\"\n",
    "}\n",
    "true_labels = [replacement_dict.get(x, x) for x in true_label_list]\n",
    "pred_labels = [replacement_dict.get(x, x) for x in pred_label_list]\n",
    "\n",
    "labels = [\"standing\", \"walking\", \"running\"]\n",
    "\n",
    "cm = confusion_matrix(true_labels, pred_labels, labels=labels)\n",
    "acc = accuracy_score(true_labels, pred_labels)\n",
    "\n",
    "sns.set(style=\"whitegrid\", palette=\"pastel\", color_codes=True)\n",
    "plt.figure(figsize=(10, 8))\n",
    "sns.heatmap(cm, annot=True, fmt=\"d\", linewidths=.5, cmap='Blues', \n",
    "            xticklabels=labels, yticklabels=labels)\n",
    "plt.title('Confusion Matrix, Classification Accuracy = {:.2f}%'.format(acc * 100))\n",
    "plt.ylabel('True label')\n",
    "plt.xlabel('Predicted label')\n",
    "plt.show()"
   ]
  },
  {
   "cell_type": "code",
   "execution_count": 13,
   "id": "42dd257c-2c7c-433b-a305-44d19b724432",
   "metadata": {
    "tags": []
   },
   "outputs": [
    {
     "data": {
      "text/plain": [
       "Counter({'standing': 87, 'walking': 87, 'running': 92})"
      ]
     },
     "execution_count": 13,
     "metadata": {},
     "output_type": "execute_result"
    }
   ],
   "source": [
    "from collections import Counter\n",
    "\n",
    "Counter(true_labels)"
   ]
  },
  {
   "cell_type": "code",
   "execution_count": 14,
   "id": "b335af8c-8162-4ae8-a2f3-a58a1cc293e8",
   "metadata": {
    "tags": []
   },
   "outputs": [
    {
     "data": {
      "text/plain": [
       "Counter({'standing': 68, 'walking': 108, 'running': 90})"
      ]
     },
     "execution_count": 14,
     "metadata": {},
     "output_type": "execute_result"
    }
   ],
   "source": [
    "Counter(pred_labels)"
   ]
  }
 ],
 "metadata": {
  "kernelspec": {
   "display_name": "Python 3 (ipykernel)",
   "language": "python",
   "name": "python3"
  },
  "language_info": {
   "codemirror_mode": {
    "name": "ipython",
    "version": 3
   },
   "file_extension": ".py",
   "mimetype": "text/x-python",
   "name": "python",
   "nbconvert_exporter": "python",
   "pygments_lexer": "ipython3",
   "version": "3.9.12"
  },
  "widgets": {
   "application/vnd.jupyter.widget-state+json": {
    "state": {},
    "version_major": 2,
    "version_minor": 0
   }
  }
 },
 "nbformat": 4,
 "nbformat_minor": 5
}
