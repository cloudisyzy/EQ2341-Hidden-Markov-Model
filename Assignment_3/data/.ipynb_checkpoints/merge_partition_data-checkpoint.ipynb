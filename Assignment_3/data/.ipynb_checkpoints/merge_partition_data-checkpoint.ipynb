{
 "cells": [
  {
   "cell_type": "code",
   "execution_count": null,
   "id": "f82a0028-a3cc-4063-b5a0-b1436cbd831a",
   "metadata": {
    "tags": []
   },
   "outputs": [],
   "source": [
    "import pandas as pd\n",
    "import os\n",
    "import numpy as np\n",
    "\n",
    "# func 1, merge two CSVs with the same structure\n",
    "def merge_csv(path1, path2, new_file_name):\n",
    "    df1 = pd.read_csv(path1)\n",
    "    df2 = pd.read_csv(path2)\n",
    "    merged_df = pd.concat([df1, df2])\n",
    "    merged_df.to_csv(new_file_name, index=False)\n",
    "    \n",
    "# func 2, spilt a CSV to n equal length sub CSVs, and store them in a new folder\n",
    "def split_csv(path, target_dir, n):\n",
    "    df = pd.read_csv(path)\n",
    "    rows_per_file = len(df) // n\n",
    "    if len(df) % n != 0:\n",
    "        rows_per_file += 1\n",
    "    if not os.path.exists(target_dir):\n",
    "        os.makedirs(target_dir)\n",
    "    for i in range(n):\n",
    "        start_row = i * rows_per_file\n",
    "        end_row = start_row + rows_per_file\n",
    "        df_part = df.iloc[start_row:end_row]\n",
    "        df_part.to_csv(os.path.join(target_dir, f'split_{i+1}.csv'), index=False)"
   ]
  },
  {
   "cell_type": "code",
   "execution_count": 1,
   "id": "f17b1458-413c-4eca-bcad-5f8232c51db3",
   "metadata": {
    "tags": []
   },
   "outputs": [],
   "source": [
    "def load_data(path, averaging=True, window=2):\n",
    "\n",
    "    data = np.genfromtxt(path, delimiter=',', names=True)\n",
    "    x = data['x']\n",
    "    y = data['y']\n",
    "    z = data['z']\n",
    "    data = np.concatenate((x,y,z), axis=0).reshape(3,-1)\n",
    "    \n",
    "    if averaging == True:\n",
    "        n, T = data.shape\n",
    "        averaged_data = np.zeros((n, T))\n",
    "        for t in range(T):\n",
    "            start_index = max(0, t - window + 1)\n",
    "            end_index = min(T, t + 1)\n",
    "            averaged_data[:, t] = np.mean(data[:, start_index:end_index], axis=1)\n",
    "        return averaged_data\n",
    "    \n",
    "    else:\n",
    "        return data"
   ]
  },
  {
   "cell_type": "code",
   "execution_count": null,
   "id": "6addcf5f-da45-4926-8769-64d33610c288",
   "metadata": {},
   "outputs": [],
   "source": [
    "data = load_data"
   ]
  }
 ],
 "metadata": {
  "kernelspec": {
   "display_name": "Python 3 (ipykernel)",
   "language": "python",
   "name": "python3"
  },
  "language_info": {
   "codemirror_mode": {
    "name": "ipython",
    "version": 3
   },
   "file_extension": ".py",
   "mimetype": "text/x-python",
   "name": "python",
   "nbconvert_exporter": "python",
   "pygments_lexer": "ipython3",
   "version": "3.9.12"
  },
  "widgets": {
   "application/vnd.jupyter.widget-state+json": {
    "state": {},
    "version_major": 2,
    "version_minor": 0
   }
  }
 },
 "nbformat": 4,
 "nbformat_minor": 5
}
