{
 "cells": [
  {
   "cell_type": "code",
   "execution_count": 1,
   "id": "f82a0028-a3cc-4063-b5a0-b1436cbd831a",
   "metadata": {
    "tags": []
   },
   "outputs": [],
   "source": [
    "import pandas as pd\n",
    "import os\n",
    "import numpy as np\n",
    "\n",
    "# func 1, merge two CSVs with the same structure\n",
    "def merge_csv(path1, path2, new_file_name):\n",
    "    df1 = pd.read_csv(path1)\n",
    "    df2 = pd.read_csv(path2)\n",
    "    merged_df = pd.concat([df1, df2])\n",
    "    merged_df.to_csv(new_file_name, index=False)\n",
    "    \n",
    "    \n",
    "# func 2, spilt a CSV to n equal length sub CSVs, and store them in a new folder\n",
    "def split_csv_equal(path, target_dir, n):\n",
    "    df = pd.read_csv(path)\n",
    "    rows_per_file = len(df) // n\n",
    "    if len(df) % n != 0:\n",
    "        rows_per_file += 1\n",
    "    if not os.path.exists(target_dir):\n",
    "        os.makedirs(target_dir)\n",
    "    for i in range(n):\n",
    "        start_row = i * rows_per_file\n",
    "        end_row = start_row + rows_per_file\n",
    "        df_part = df.iloc[start_row:end_row]\n",
    "        df_part.to_csv(os.path.join(target_dir, f'split_{i+1}.csv'), index=False)\n",
    "        \n",
    "# func 2, spilt a CSV to random length sub CSVs, and store them in a new folder        \n",
    "def split_csv_randomly(path, target_dir, n):\n",
    "    df = pd.read_csv(path)\n",
    "    total_rows = len(df)\n",
    "    avg_rows = total_rows / n\n",
    "    min_rows = 0.6 * avg_rows\n",
    "    max_rows = 1.6 * avg_rows\n",
    "    \n",
    "    if not os.path.exists(target_dir):\n",
    "        os.makedirs(target_dir)\n",
    "\n",
    "    start_idx = 0\n",
    "    for i in range(n):\n",
    "        if i == n - 1:\n",
    "            end_idx = total_rows\n",
    "        else:\n",
    "            rows_for_file = np.random.randint(min_rows, max_rows + 1)\n",
    "            end_idx = start_idx + rows_for_file\n",
    "            if end_idx > total_rows:\n",
    "                end_idx = total_rows\n",
    "                break\n",
    "\n",
    "        df_part = df.iloc[start_idx:end_idx]\n",
    "        df_part.to_csv(os.path.join(target_dir, f'split_{i + 1}.csv'), index=False)\n",
    "        \n",
    "        start_idx = end_idx\n",
    "        \n",
    "        \n",
    "def load_data(path, averaging=True, window=2):\n",
    "\n",
    "    data = np.genfromtxt(path, delimiter=',', names=True)\n",
    "    x = data['x']\n",
    "    y = data['y']\n",
    "    z = data['z']\n",
    "    data = np.concatenate((x,y,z), axis=0).reshape(3,-1)\n",
    "    \n",
    "    if averaging == True:\n",
    "        n, T = data.shape\n",
    "        averaged_data = np.zeros((n, T))\n",
    "        for t in range(T):\n",
    "            start_index = max(0, t - window + 1)\n",
    "            end_index = min(T, t + 1)\n",
    "            averaged_data[:, t] = np.mean(data[:, start_index:end_index], axis=1)\n",
    "        return averaged_data\n",
    "    \n",
    "    else:\n",
    "        return data"
   ]
  },
  {
   "cell_type": "code",
   "execution_count": 5,
   "id": "3ddefdea-987e-4204-8d22-eb57e43faa4e",
   "metadata": {
    "tags": []
   },
   "outputs": [],
   "source": [
    "split_csv_randomly('run_1.csv', 'running', 100)"
   ]
  },
  {
   "cell_type": "code",
   "execution_count": 69,
   "id": "fba11e19-1963-4d52-a611-0836fa5f0ec9",
   "metadata": {
    "tags": []
   },
   "outputs": [
    {
     "data": {
      "text/plain": [
       "1"
      ]
     },
     "execution_count": 69,
     "metadata": {},
     "output_type": "execute_result"
    }
   ],
   "source": [
    "standing_path = 'standing/'\n",
    "for root, dirs, files in os.walk(standing_path):\n",
    "    for file in files:\n",
    "        single_csv = os.path.join(root, file)\n",
    "        a = load_data(single_csv, averaging=True, window=2)\n",
    "c = (a, 1)\n"
   ]
  },
  {
   "cell_type": "code",
   "execution_count": null,
   "id": "4b61af6a-b2c2-4c12-98b9-a086d5d0932e",
   "metadata": {},
   "outputs": [],
   "source": []
  }
 ],
 "metadata": {
  "kernelspec": {
   "display_name": "Python 3 (ipykernel)",
   "language": "python",
   "name": "python3"
  },
  "language_info": {
   "codemirror_mode": {
    "name": "ipython",
    "version": 3
   },
   "file_extension": ".py",
   "mimetype": "text/x-python",
   "name": "python",
   "nbconvert_exporter": "python",
   "pygments_lexer": "ipython3",
   "version": "3.9.12"
  },
  "widgets": {
   "application/vnd.jupyter.widget-state+json": {
    "state": {},
    "version_major": 2,
    "version_minor": 0
   }
  }
 },
 "nbformat": 4,
 "nbformat_minor": 5
}
