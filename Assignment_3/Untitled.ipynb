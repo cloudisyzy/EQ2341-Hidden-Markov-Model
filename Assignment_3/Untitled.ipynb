{
 "cells": [
  {
   "cell_type": "code",
   "execution_count": 1,
   "id": "c40df5d1-ede8-45d6-bc1f-05a7fde23f12",
   "metadata": {
    "tags": []
   },
   "outputs": [],
   "source": [
    "import numpy as np\n",
    "from PattRecClasses import DiscreteD, GaussD, HMM, MarkovChain\n",
    "from PattRecClasses.func import compute_pX"
   ]
  },
  {
   "cell_type": "code",
   "execution_count": 2,
   "id": "6cb5bae8-de5a-4975-a5ae-93ec873095cf",
   "metadata": {
    "tags": []
   },
   "outputs": [],
   "source": [
    "data = np.genfromtxt('停走跑走停走跑_标准.csv', delimiter=',', names=True)\n",
    "x = data['x']\n",
    "y = data['y']\n",
    "z = data['z']"
   ]
  },
  {
   "cell_type": "code",
   "execution_count": 3,
   "id": "be230ebc-b67e-4398-8b4e-10da9d256411",
   "metadata": {
    "tags": []
   },
   "outputs": [
    {
     "data": {
      "text/plain": [
       "(3555,)"
      ]
     },
     "execution_count": 3,
     "metadata": {},
     "output_type": "execute_result"
    }
   ],
   "source": [
    "x.shape"
   ]
  },
  {
   "cell_type": "code",
   "execution_count": 4,
   "id": "1a510b58-83e3-416a-b320-d432c5432ec9",
   "metadata": {
    "tags": []
   },
   "outputs": [
    {
     "data": {
      "text/plain": [
       "array([[-0.10405556, -0.18050431, -0.2236205 , ..., -0.92830698,\n",
       "        -0.27569801,  0.17308322],\n",
       "       [ 0.0965921 ,  0.13906711,  0.17087811, ...,  1.51993227,\n",
       "         0.46480728, -0.42217035],\n",
       "       [ 0.09390169,  0.25356793,  0.39153614, ..., -2.87471489,\n",
       "        -2.98291925, -2.42874281]])"
      ]
     },
     "execution_count": 4,
     "metadata": {},
     "output_type": "execute_result"
    }
   ],
   "source": [
    "data_c = np.concatenate((x,y,z), axis=0).reshape(3,-1)\n",
    "data_c"
   ]
  },
  {
   "cell_type": "code",
   "execution_count": 28,
   "id": "cc635370-e814-4a9a-bca8-0cd412134109",
   "metadata": {
    "tags": []
   },
   "outputs": [],
   "source": [
    "mc = MarkovChain( np.array( [ 0.75, 0.25, 0] ), np.array( [ [ 0.8, 0.1, 0.1 ], [ 0.1, 0.8, 0.1 ], [0.1,0.1,0.8] ] ) ) \n",
    "\n",
    "g1 = GaussD(means=[0,2, 3], cov=np.array([[1, 0, 0], [0, 1, 0], [0, 0, 1]]))\n",
    "g2 = GaussD(means=[0, 1, 1], cov=np.array([[1, 0, 0], [0, 1, 0], [0, 0, 1]]))\n",
    "g3 = GaussD(means=[-1, 0, 2], cov=np.array([[1, 0, 0], [0, 1, 0], [0, 0, 1]]))\n",
    "g = [g1, g2, g3]\n",
    "h  = HMM(mc, g)"
   ]
  },
  {
   "cell_type": "code",
   "execution_count": 31,
   "id": "49fa31fb-1428-43d3-915a-6e7e42e6e2f2",
   "metadata": {
    "tags": []
   },
   "outputs": [],
   "source": [
    "data = np.array( [ [ 0.8, 0.1, 0.1 ], [ 0.1, 0.8, 0.1 ], [0.1,0.1,0.8] ] )\n",
    "pX = compute_pX(data, g,scale=True)"
   ]
  },
  {
   "cell_type": "code",
   "execution_count": 32,
   "id": "74026210-fb80-41fd-8b10-c192e17d1687",
   "metadata": {
    "tags": []
   },
   "outputs": [
    {
     "data": {
      "text/plain": [
       "array([[0.00551656, 0.011109  , 0.02237077],\n",
       "       [1.        , 1.        , 1.        ],\n",
       "       [0.10025884, 0.10025884, 0.40656966]])"
      ]
     },
     "execution_count": 32,
     "metadata": {},
     "output_type": "execute_result"
    }
   ],
   "source": [
    "pX"
   ]
  },
  {
   "cell_type": "code",
   "execution_count": 35,
   "id": "fbe40002-88d0-4e84-ac03-cbc07b6f2b9d",
   "metadata": {
    "tags": []
   },
   "outputs": [],
   "source": [
    "g1 = GaussD(means=[0,2, 3,1], cov=np.array([[1, 0, 0, 0], [0, 1, 0, 0], [0, 0, 1, 0],[0,0,0,1]]))\n",
    "g2 = GaussD(means=[0, 1, 1,1], cov=np.array([[1, 0, 0, 0], [0, 1, 0, 0], [0, 0, 1, 0],[0,0,0,1]]))\n",
    "g3 = GaussD(means=[-1, 0, 2,1], cov=np.array([[1, 0, 0, 0], [0, 1, 0, 0], [0, 0, 1, 0],[0,0,0,1]]))\n",
    "g = [g1, g2, g3]\n",
    "h  = HMM(mc, g)\n",
    "data = np.array( [ [ 0.8, 0.1, 0.1], [ 0.1, 0.8, 0.1 ], [0.1,0.1,0.8], [0.8,0.2,0.1] ] )\n",
    "pX = compute_pX(data, g,scale=True)"
   ]
  },
  {
   "cell_type": "code",
   "execution_count": 36,
   "id": "ecc49a7a-6134-4679-b446-73a9b09916ca",
   "metadata": {
    "tags": []
   },
   "outputs": [
    {
     "data": {
      "text/plain": [
       "array([[0.00551656, 0.011109  , 0.02237077],\n",
       "       [1.        , 1.        , 1.        ],\n",
       "       [0.10025884, 0.10025884, 0.40656966]])"
      ]
     },
     "execution_count": 36,
     "metadata": {},
     "output_type": "execute_result"
    }
   ],
   "source": [
    "pX"
   ]
  }
 ],
 "metadata": {
  "kernelspec": {
   "display_name": "Python 3 (ipykernel)",
   "language": "python",
   "name": "python3"
  },
  "language_info": {
   "codemirror_mode": {
    "name": "ipython",
    "version": 3
   },
   "file_extension": ".py",
   "mimetype": "text/x-python",
   "name": "python",
   "nbconvert_exporter": "python",
   "pygments_lexer": "ipython3",
   "version": "3.9.12"
  },
  "widgets": {
   "application/vnd.jupyter.widget-state+json": {
    "state": {},
    "version_major": 2,
    "version_minor": 0
   }
  }
 },
 "nbformat": 4,
 "nbformat_minor": 5
}
