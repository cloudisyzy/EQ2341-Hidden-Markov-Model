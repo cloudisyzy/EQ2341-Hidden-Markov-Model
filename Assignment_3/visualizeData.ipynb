{
 "cells": [
  {
   "cell_type": "code",
   "execution_count": 4,
   "id": "2898e741-54a4-4b17-8d98-85f3aa349524",
   "metadata": {
    "tags": []
   },
   "outputs": [],
   "source": [
    "import numpy as np\n",
    "import matplotlib\n",
    "import matplotlib.pyplot as plt\n",
    "from mpl_toolkits.mplot3d import Axes3D\n",
    "\n",
    "# Load Data\n",
    "data = np.genfromtxt('停走跑走停走跑_标准.csv', delimiter=',', names=True)\n",
    "x = data['x']\n",
    "y = data['y']\n",
    "z = data['z']"
   ]
  },
  {
   "cell_type": "code",
   "execution_count": 5,
   "id": "f3706403-5500-440a-8d28-7396d0086783",
   "metadata": {
    "tags": []
   },
   "outputs": [],
   "source": [
    "# 2D Plot\n",
    "\n",
    "matplotlib.use('Qt5Agg')\n",
    "plt.figure(figsize=(8, 5), dpi=200)\n",
    "plt.plot(x, label='X-axis Data')\n",
    "plt.plot(y, label='Y-axis Data')\n",
    "plt.plot(z, label='Z-axis Data')\n",
    "plt.legend()\n",
    "plt.title('Accelerometer Data Plot')\n",
    "plt.xlabel('Time')\n",
    "plt.ylabel('Sensor Values')\n",
    "plt.show()"
   ]
  },
  {
   "cell_type": "code",
   "execution_count": 6,
   "id": "c75e5eee-85cb-45fe-ad6b-9428d871fd02",
   "metadata": {
    "tags": []
   },
   "outputs": [],
   "source": [
    "# 3D Plot\n",
    "\n",
    "fig = plt.figure(figsize=(10, 10))\n",
    "ax = fig.add_subplot(111, projection='3d')\n",
    "t = np.arange(len(x))\n",
    "\n",
    "matplotlib.use('Qt5Agg')\n",
    "plt.ion()\n",
    "ax.plot(t, x, zs=0, zdir='y', label='X-axis Data')\n",
    "ax.plot(t, y, zs=1, zdir='y', label='Y-axis Data')\n",
    "ax.plot(t, z, zs=2, zdir='y', label='Z-axis Data')\n",
    "ax.set_xlabel('Time')\n",
    "ax.set_zlabel('Sensor Values')\n",
    "ax.set_yticklabels([])\n",
    "ax.legend()\n",
    "plt.show()"
   ]
  }
 ],
 "metadata": {
  "kernelspec": {
   "display_name": "Python 3 (ipykernel)",
   "language": "python",
   "name": "python3"
  },
  "language_info": {
   "codemirror_mode": {
    "name": "ipython",
    "version": 3
   },
   "file_extension": ".py",
   "mimetype": "text/x-python",
   "name": "python",
   "nbconvert_exporter": "python",
   "pygments_lexer": "ipython3",
   "version": "3.9.12"
  },
  "widgets": {
   "application/vnd.jupyter.widget-state+json": {
    "state": {},
    "version_major": 2,
    "version_minor": 0
   }
  }
 },
 "nbformat": 4,
 "nbformat_minor": 5
}
