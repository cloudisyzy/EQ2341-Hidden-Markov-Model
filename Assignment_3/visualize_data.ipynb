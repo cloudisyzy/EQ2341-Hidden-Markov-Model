{
 "cells": [
  {
   "cell_type": "code",
   "execution_count": 5,
   "id": "2898e741-54a4-4b17-8d98-85f3aa349524",
   "metadata": {
    "tags": []
   },
   "outputs": [],
   "source": [
    "import numpy as np\n",
    "import matplotlib\n",
    "import matplotlib.pyplot as plt\n",
    "from mpl_toolkits.mplot3d import Axes3D\n",
    "from PattRecClasses.func import load_data, plot_fft\n",
    "\n",
    "# Load Data\n",
    "window_size = 5\n",
    "data = load_data('data/running_test/split_100.csv', averaging=False, window=window_size)\n",
    "\n",
    "# Restart Kernel and comment the below line if error occurs\n",
    "matplotlib.use('Qt5Agg')"
   ]
  },
  {
   "cell_type": "code",
   "execution_count": 6,
   "id": "ded74efc-c7c7-4a19-9bd7-32cf3c973f1f",
   "metadata": {
    "tags": []
   },
   "outputs": [],
   "source": [
    "# 2D Plot\n",
    "\n",
    "plt.ion()\n",
    "plt.figure(figsize=(6, 6), dpi=300)\n",
    "plt.plot(data[0], label='X-axis Data')\n",
    "plt.plot(data[1], label='Y-axis Data')\n",
    "plt.plot(data[2], label='Z-axis Data')\n",
    "plt.legend()\n",
    "plt.title('Accelerometer Data Plot')\n",
    "plt.xlabel('Time')\n",
    "plt.ylabel('Sensor Values')\n",
    "plt.show()"
   ]
  },
  {
   "cell_type": "code",
   "execution_count": 16,
   "id": "c75e5eee-85cb-45fe-ad6b-9428d871fd02",
   "metadata": {
    "tags": []
   },
   "outputs": [],
   "source": [
    "# 3D Plot\n",
    "\n",
    "fig = plt.figure(figsize=(10, 10), dpi=150)\n",
    "ax = fig.add_subplot(111, projection='3d')\n",
    "t = np.arange(len(data[0]))\n",
    "\n",
    "plt.ion()\n",
    "ax.plot(t, data[0], zs=0, zdir='y', label='X-axis Data')\n",
    "ax.plot(t, data[1], zs=1, zdir='y', label='Y-axis Data')\n",
    "ax.plot(t, data[2], zs=2, zdir='y', label='Z-axis Data')\n",
    "ax.set_xlabel('Time')\n",
    "ax.set_zlabel('Sensor Values')\n",
    "ax.set_yticklabels([])\n",
    "ax.legend()\n",
    "plt.show()"
   ]
  }
 ],
 "metadata": {
  "kernelspec": {
   "display_name": "Python 3 (ipykernel)",
   "language": "python",
   "name": "python3"
  },
  "language_info": {
   "codemirror_mode": {
    "name": "ipython",
    "version": 3
   },
   "file_extension": ".py",
   "mimetype": "text/x-python",
   "name": "python",
   "nbconvert_exporter": "python",
   "pygments_lexer": "ipython3",
   "version": "3.9.12"
  },
  "widgets": {
   "application/vnd.jupyter.widget-state+json": {
    "state": {},
    "version_major": 2,
    "version_minor": 0
   }
  }
 },
 "nbformat": 4,
 "nbformat_minor": 5
}
